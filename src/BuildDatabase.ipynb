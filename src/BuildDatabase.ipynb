{
 "cells": [
  {
   "cell_type": "code",
   "execution_count": 1,
   "id": "2f1023f5",
   "metadata": {},
   "outputs": [],
   "source": [
    "from GetData.GetTimeSeries import GetTimeSeries\n",
    "from SQLite.SQLite import SQLite\n",
    "from datetime import date\n",
    "from tqdm import tqdm\n",
    "\n",
    "import pandas as pd"
   ]
  },
  {
   "cell_type": "code",
   "execution_count": 2,
   "id": "977ee067",
   "metadata": {},
   "outputs": [],
   "source": [
    "def create_table():\n",
    "    for query in ['create_ts.sql', 'create_meta.sql']:\n",
    "        with open(f'SQL/{query}', 'r') as f:\n",
    "            query = f.read()\n",
    "        SQL = SQLite('data.db')\n",
    "        SQL(query)\n",
    "create_table()"
   ]
  },
  {
   "cell_type": "code",
   "execution_count": 3,
   "id": "fc06fa84",
   "metadata": {},
   "outputs": [
    {
     "data": {
      "text/plain": [
       "[1, 11, 12, 23, 27, 29, 31, 33, 35, 37]"
      ]
     },
     "execution_count": 3,
     "metadata": {},
     "output_type": "execute_result"
    }
   ],
   "source": [
    "start_date = '01/01/2019'\n",
    "end_date = '01/01/2022'\n",
    "ids = pd.read_csv('time_series.csv').values.reshape(-1).tolist()\n",
    "ids[0:10]"
   ]
  },
  {
   "cell_type": "code",
   "execution_count": 4,
   "id": "fe4ddaed",
   "metadata": {},
   "outputs": [
    {
     "data": {
      "text/plain": [
       "226"
      ]
     },
     "execution_count": 4,
     "metadata": {},
     "output_type": "execute_result"
    }
   ],
   "source": [
    "ids[19]"
   ]
  },
  {
   "cell_type": "code",
   "execution_count": 5,
   "id": "6318a3c4",
   "metadata": {
    "scrolled": false
   },
   "outputs": [
    {
     "name": "stderr",
     "output_type": "stream",
     "text": [
      " 10%|██████████                                                                                       | 20/194 [00:27<03:59,  1.38s/it]"
     ]
    },
    {
     "name": "stdout",
     "output_type": "stream",
     "text": [
      "226^UNIQUE constraint failed: time_series.d, time_series.series_id\n"
     ]
    },
    {
     "name": "stderr",
     "output_type": "stream",
     "text": [
      "\r",
      " 11%|██████████▌                                                                                      | 21/194 [00:30<04:41,  1.63s/it]"
     ]
    },
    {
     "name": "stdout",
     "output_type": "stream",
     "text": [
      "227^UNIQUE constraint failed: time_series.d, time_series.series_id\n"
     ]
    },
    {
     "name": "stderr",
     "output_type": "stream",
     "text": [
      "100%|████████████████████████████████████████████████████████████████████████████████████████████████| 194/194 [02:49<00:00,  1.15it/s]\n"
     ]
    }
   ],
   "source": [
    "data_t = 'time_series'\n",
    "meta_t = 'time_series_meta'\n",
    "SQL = SQLite('data.db')\n",
    "SQL(f'DELETE FROM {data_t}')\n",
    "SQL(f'DELETE FROM {meta_t}')\n",
    "\n",
    "GTS = GetTimeSeries(ids, start_date=start_date, end_date=end_date)\n",
    "i = iter(GTS)\n",
    "failed_list = []\n",
    "for df, meta in tqdm(i):\n",
    "    if df is None:\n",
    "        break\n",
    "    df.columns = ['value']\n",
    "    df['series_id'] = meta.loc[0, 'code']\n",
    "    df.index.names = ['d']\n",
    "    df = df.reset_index()\n",
    "    \n",
    "    try:\n",
    "        with SQL.get_connection() as con:\n",
    "            df.to_sql(data_t, con, if_exists='append', index=False)\n",
    "            meta.to_sql(meta_t, con, if_exists='append', index=False)\n",
    "    except Exception as e:\n",
    "        message = f\"{meta.loc[0, 'code']}^{str(e)}\"\n",
    "        print(message)\n",
    "        failed_list.append(message)\n",
    "\n",
    "if len(failed_list) > 0:\n",
    "    s = '\\n'.join(failed_list)\n",
    "    with open('failed_to_upload.txt', 'w') as f:\n",
    "        f.write(s)"
   ]
  },
  {
   "cell_type": "code",
   "execution_count": 6,
   "id": "c1ebf329",
   "metadata": {},
   "outputs": [
    {
     "name": "stdout",
     "output_type": "stream",
     "text": [
      "done\n"
     ]
    }
   ],
   "source": [
    "print('done')"
   ]
  }
 ],
 "metadata": {
  "kernelspec": {
   "display_name": "Python 3 (ipykernel)",
   "language": "python",
   "name": "python3"
  },
  "language_info": {
   "codemirror_mode": {
    "name": "ipython",
    "version": 3
   },
   "file_extension": ".py",
   "mimetype": "text/x-python",
   "name": "python",
   "nbconvert_exporter": "python",
   "pygments_lexer": "ipython3",
   "version": "3.8.10"
  }
 },
 "nbformat": 4,
 "nbformat_minor": 5
}
